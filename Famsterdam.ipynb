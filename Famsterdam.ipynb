{
 "cells": [
  {
   "cell_type": "markdown",
   "metadata": {},
   "source": [
    "# Famsterdamin sisällisota"
   ]
  },
  {
   "cell_type": "code",
   "execution_count": null,
   "metadata": {},
   "outputs": [],
   "source": [
    "import pandas as pd\n",
    "import matplotlib.pyplot as plt\n",
    "import numpy as np\n",
    "import numpy.random as rnd\n",
    "\n",
    "%matplotlib inline"
   ]
  },
  {
   "cell_type": "markdown",
   "metadata": {},
   "source": [
    "Tähän tulee tietoja kaupungin ja sen faktioiden tilasta:"
   ]
  },
  {
   "cell_type": "code",
   "execution_count": null,
   "metadata": {},
   "outputs": [],
   "source": []
  },
  {
   "cell_type": "code",
   "execution_count": null,
   "metadata": {},
   "outputs": [],
   "source": []
  },
  {
   "cell_type": "markdown",
   "metadata": {},
   "source": [
    "### Satunnaiskohtaamisia"
   ]
  },
  {
   "cell_type": "code",
   "execution_count": null,
   "metadata": {},
   "outputs": [],
   "source": [
    "Fam = pd.read_table('Famsterdamin_sota_satunnaiskohtaamisia.txt', sep = ',', encoding='iso-8859-1')\n",
    "Tek = pd.read_table('Tekemiset.txt', sep = ',', encoding='iso-8859-1' )"
   ]
  },
  {
   "cell_type": "code",
   "execution_count": null,
   "metadata": {},
   "outputs": [],
   "source": [
    "luku = rnd.randint(len(Fam))\n",
    "luku2 = rnd.randint(len(Tek))\n",
    "arpa = rnd.randint(6)\n",
    "\n",
    "print('Päivän satunnaiskohtaaminen on:\\n\\n' + Fam.Kohtaaminen[luku])\n",
    "print(Tek.Tekeminen[luku2])\n",
    "\n",
    "if arpa==1:\n",
    "    luku = rnd.randint(len(Fam))\n",
    "    luku2 = rnd.randint(len(Tek))\n",
    "    print('\\n Sen kanssa samalla on:\\n\\n' + Fam.Kohtaaminen[luku])\n",
    "    print(Tek.Tekeminen[luku2])"
   ]
  },
  {
   "cell_type": "markdown",
   "metadata": {},
   "source": [
    "### Satunnaista härötaikuutta"
   ]
  },
  {
   "cell_type": "code",
   "execution_count": null,
   "metadata": {},
   "outputs": [],
   "source": [
    "Taika = pd.read_table('Outoa_taikaa.txt', sep = ',', encoding = 'iso-8859-1' )"
   ]
  },
  {
   "cell_type": "code",
   "execution_count": null,
   "metadata": {},
   "outputs": [],
   "source": [
    "luku = rnd.randint(len(Taika))\n",
    "arpa = rnd.randint(6)\n",
    "\n",
    "print('Päivän outo efekti on:\\n\\n' + Taika.Efekti[luku])\n",
    "if arpa==1:\n",
    "    luku = rnd.randint(len(Taika))\n",
    "    print('\\n Sekä:\\n\\n' + Taika.Efekti[luku])"
   ]
  },
  {
   "cell_type": "markdown",
   "metadata": {},
   "source": [
    "### Satunnaista ryöstösaalista kaupungista"
   ]
  },
  {
   "cell_type": "code",
   "execution_count": null,
   "metadata": {},
   "outputs": [],
   "source": [
    "Saalis = pd.read_table('Saalista.txt', sep = ',', encoding = 'iso-8859-1' )\n",
    "Ansa = pd.read_table('Ansoja.txt', sep = ',', encoding = 'iso-8859-1')"
   ]
  },
  {
   "cell_type": "code",
   "execution_count": null,
   "metadata": {},
   "outputs": [],
   "source": [
    "luku = rnd.randint(len(Saalis))\n",
    "arpa = rnd.randint(6)\n",
    "\n",
    "print('Päivän löytö on: \\n\\n' + Saalis.Saalis[luku])\n",
    "if arpa==1:\n",
    "    luku = rnd.randint(len(Ansa))\n",
    "    print('\\n Jota vaikeuttaa ikävästi:\\n\\n' + Ansa.Ansa[luku])"
   ]
  },
  {
   "cell_type": "markdown",
   "metadata": {},
   "source": [
    "### Satunnaisia tapahtumia taustalla"
   ]
  },
  {
   "cell_type": "code",
   "execution_count": null,
   "metadata": {},
   "outputs": [],
   "source": []
  },
  {
   "cell_type": "code",
   "execution_count": null,
   "metadata": {},
   "outputs": [],
   "source": []
  }
 ],
 "metadata": {
  "kernelspec": {
   "display_name": "Python 3",
   "language": "python",
   "name": "python3"
  },
  "language_info": {
   "codemirror_mode": {
    "name": "ipython",
    "version": 3
   },
   "file_extension": ".py",
   "mimetype": "text/x-python",
   "name": "python",
   "nbconvert_exporter": "python",
   "pygments_lexer": "ipython3",
   "version": "3.6.5"
  }
 },
 "nbformat": 4,
 "nbformat_minor": 2
}
