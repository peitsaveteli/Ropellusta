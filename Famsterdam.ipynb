{
 "cells": [
  {
   "cell_type": "markdown",
   "metadata": {},
   "source": [
    "# Famsterdamin sisällisota"
   ]
  },
  {
   "cell_type": "code",
   "execution_count": 1,
   "metadata": {},
   "outputs": [],
   "source": [
    "import pandas as pd\n",
    "import matplotlib.pyplot as plt\n",
    "import numpy as np\n",
    "import numpy.random as rnd\n",
    "\n",
    "%matplotlib inline"
   ]
  },
  {
   "cell_type": "markdown",
   "metadata": {},
   "source": [
    "### Tietoja kaupungin ja sen faktioiden tilasta:"
   ]
  },
  {
   "cell_type": "markdown",
   "metadata": {},
   "source": [
    "Kaupunginosat tilanteineen:\n",
    "- **Satama:**\n",
    "    - juttu\n",
    "    - juttu\n",
    "- **Keskustori:**\n",
    "- **Kiltahuone:**\n",
    "- **Itäinen varakkaiden alue:**\n",
    "- **Itäiset slummit:**\n",
    "- **Idän rajaslummit:**   \n",
    "\n",
    "jne., piirräpä se kartta ehtiessäsi. "
   ]
  },
  {
   "cell_type": "markdown",
   "metadata": {},
   "source": [
    "Faktiot lojaliteetteineen ja tärkeine nimineen:\n",
    "\n",
    "Kumoukselliset:\n",
    "\n",
    "- **Kauppasuku van Dörren, 200 miestä.**\n",
    "    - Patriarkka Josef on Duvan'Kun harjoittaja. Poika Emmet rikas diletantti.\n",
    "    - Kauna seikkailijoille kirjavarkaista, suhteita arkkipiispa Elieliin.\n",
    "    - Josefin palveluksessa Paater et al., 6x 5 HD taistelijaa valmiina kommandokeikoille.\n",
    "    - Vihakierre van Blardiblarghien kanssa.\n",
    "    - Muita tärkeitä: leidi Silvia ja kirstunvartija Jared.\n",
    "    \n",
    "- **Ritarisuku van Ermahgerd, 500 miestä.**\n",
    "    - Pikkuaatelia, jolla on paljon kokemusta sodasta.\n",
    "    - Protoprotestantteja, jotka kannattavat kumousta tietämättä synkemmistä taustoista.\n",
    "    - Tärkeitä: komentajakapteeni Humbert (3 HD), poikansa Gregor (3 HD), pappi Loew ja laivaston leidi Juliana (2 HD).\n",
    "\n",
    "- **Mutanttiveljeskunta viemäreistä, 100 (+ 4000) miestä.**\n",
    "    - Oman elämänsä luusereiden sekalainen seurakunta, joka toivoo turhaan parempaa elämää.\n",
    "    - Agentti kirkon suuntaan, Amalia-parka.\n",
    "    - Agentti yliopistoon, Crowley-raukka.\n",
    "    - Agentti yleisesti kaduilla, Marius-polo.\n",
    "\n",
    "Sekavat:\n",
    "\n",
    "- **Famsterdamin kirkko, 1000 (+ 10000) miestä.**\n",
    "    - Kirkko on jakautunut useisiin puolueisiin.\n",
    "    - 20 % kumouksellisia Temppelin kultisteja arkkipiispa Elielin (4 HD) johtamina.\n",
    "    - 10 % piispa Fendelin johtamia espanjanmielisiä kumouksellisia.\n",
    "    - 30 % antikumouksellisia puritanisteja piispa Gorlettin johtamina.\n",
    "    - 30 % status quota kannattavia opportunisteja abbedissa Maritanin (1 HD) johtamina.\n",
    "    - 10 % välinpitämättömiä tutkijoita veli Arduinon seurassa.\n",
    "    \n",
    "- **Porvariperhe van Blardiblargh, 1500 miestä.**\n",
    "    - Suuri ja vaikutusvaltainen joukko erinäisiä uskollisuuksia. Keskinäistä kyräilyä on.\n",
    "    - Tärkeitä: patriarkka Ivar, junkfrau Selena, ritari William ja leidi Lisbeth.\n",
    "    - Ristiinnaintia Ermahgerdien kanssa tapahtuu.\n",
    "    - Vihakierre van Dörrenien kanssa.\n",
    "    \n",
    "- **Kaupunginkaarti, 1000 (+ 10000) miestä.**\n",
    "    - 30 % kumouksellisia sotasankari kapteeni Dariuksen (3 HD) alla.\n",
    "    - 50 % yleistä järjestystä tahtovia status quo -linjalaisia luutnantti Lenardin (2 HD) alla.\n",
    "    - 20 % tulisieluisia antikumouksellisia luutnantti Maximin (3 HD) alla.\n",
    "    \n",
    "- **Baronetti Herschel, 50 (+ 100) miestä.**\n",
    "    - Karismaattinen mutta selkäänpuukottava rouva, jonka mies on lähinnä käsinukke.\n",
    "    - Täysin opportunistinen tuuliviiri.\n",
    "\n",
    "- **Ritari Buzkel, 50 (+ 100) miestä.**\n",
    "    - Vararikkoinen ja epätoivoinen sotilas (4 HD), valmis mihin tahansa.\n",
    "    - Sinänsä harras katolinen.\n",
    "\n",
    "- **Leidi Huberia, 50 (+ 100) miestä.**\n",
    "    - Rikas mesenaatti, taiteiden ja kirjallisuuden ystävä.\n",
    "    - Parhaansa mukaan irrallaan sodasta.\n",
    "\n",
    "- **Italomafia, 100 miestä.**\n",
    "    - Sataman huumekauppa, valitettavan rajoittunut poliittinen valta.\n",
    "    - Sukset ristissä Handun kanssa.\n",
    "\n",
    "- **Famsterdamin yliopisto, 1000 (+ 3000) miestä.**\n",
    "    - Täysi friikkisirkus, metropolin sykkivä sydän jolla on sormet joka sopassa.\n",
    "    - Kumoukselliset:\n",
    "        - Prof. Marius, tähtitiede. Mundaani, ei kultistijuttuja.\n",
    "        - Leidi Amalia, tykistöinsinöörit.\n",
    "        - Suursmurffi Papus, make Duvan'Ku great again.\n",
    "    - Sekavat:\n",
    "        - Dos. Titratus, alkemia. Status quo.\n",
    "        - Prof. Ventatus, anatomia. Status quo.\n",
    "        - Leidi Katzenburg, historian tutkimus. Status quo.\n",
    "        - Leidi Hawkesby, vieraileva kartoittaja. Välinpitämätön.\n",
    "        - Magos Crowley, maanalainen maagijohtaja. Itsenäinen.\n",
    "        - Inspehtoori Suvius, kyrpiintyneet seuraajat. Kumous / antikumous.\n",
    "        - Päähoitaja Armitage, mielisairaala. Itsenäinen.\n",
    "        - Toht. Inttu-Jonttu, arkeologia. Opportunisti.\n",
    "        - Leidi Gedankt, metafysiikka. Superpositiossa.\n",
    "    - Antikumous:\n",
    "        - Prof. Quadrus, alkemia.\n",
    "        - Prof. van Hellsing, esoteeriset metsästäjät.\n",
    "        - Leidi di Vitro, patologia.\n",
    "\n",
    "Antikumoukselliset:\n",
    "\n",
    "- **Kuvanveistäjäin kilta (Illuminati), 300 (+ 1500) miestä.**\n",
    "    - Duvan'Kuta pelkääviä mystisiä pokemonmetsästäjiä, esoteriaa tippuu hihoista ja korvista.\n",
    "    - Sukset ristissä kirkon ja yliopiston kanssa.\n",
    "    - Tärkeitä: suurmestari Valdemar, pronssirouva Trista, työnjohtaja Huron ja kipsikuningatar Elise.\n",
    "    \n",
    "- **aa**\n",
    "    - juttu\n",
    "    - juttu\n"
   ]
  },
  {
   "cell_type": "markdown",
   "metadata": {},
   "source": [
    "### Satunnaiskohtaamisia"
   ]
  },
  {
   "cell_type": "code",
   "execution_count": 3,
   "metadata": {},
   "outputs": [],
   "source": [
    "Fam = pd.read_table('Famsterdamin_sota_satunnaiskohtaamisia.txt', sep = ',', encoding='iso-8859-1')\n",
    "Tek = pd.read_table('Tekemiset.txt', sep = ',', encoding='iso-8859-1' )"
   ]
  },
  {
   "cell_type": "code",
   "execution_count": 45,
   "metadata": {},
   "outputs": [
    {
     "name": "stdout",
     "output_type": "stream",
     "text": [
      "Päivän satunnaiskohtaaminen on:\n",
      "\n",
      "Kuvanveistäjiä: d6 Illuminatin agenttia. 1/6 ovat kusessa, 1/6 tuovat viestiä.\n",
      "Vetämässä perseet.\n"
     ]
    }
   ],
   "source": [
    "arpa = rnd.randint(6)\n",
    "\n",
    "print('Päivän satunnaiskohtaaminen on:\\n\\n' + rnd.choice(Fam.Kohtaaminen))\n",
    "print(rnd.choice(Tek.Tekeminen))\n",
    "\n",
    "if arpa==1:\n",
    "    print('\\n Sen kanssa samalla on:\\n\\n' + rnd.choice(Fam.Kohtaaminen))\n",
    "    print(rnd.choice(Tek.Tekeminen))"
   ]
  },
  {
   "cell_type": "markdown",
   "metadata": {},
   "source": [
    "### Satunnaista härötaikuutta"
   ]
  },
  {
   "cell_type": "code",
   "execution_count": 7,
   "metadata": {},
   "outputs": [],
   "source": [
    "Taika = pd.read_table('Outoa_taikaa.txt', sep = ',', encoding = 'iso-8859-1' )"
   ]
  },
  {
   "cell_type": "code",
   "execution_count": 26,
   "metadata": {},
   "outputs": [
    {
     "name": "stdout",
     "output_type": "stream",
     "text": [
      "Päivän outo efekti on:\n",
      "\n",
      "Peto sisällä vaatii vapautta (esim. ihmissusia).\n"
     ]
    }
   ],
   "source": [
    "arpa = rnd.randint(6)\n",
    "\n",
    "print('Päivän outo efekti on:\\n\\n' + rnd.choice(Taika.Efekti))\n",
    "\n",
    "if arpa==1:\n",
    "    print('\\n Sekä:\\n\\n' + rnd.choice(Taika.Efekti))"
   ]
  },
  {
   "cell_type": "markdown",
   "metadata": {},
   "source": [
    "### Satunnaista ryöstösaalista kaupungista"
   ]
  },
  {
   "cell_type": "code",
   "execution_count": 9,
   "metadata": {},
   "outputs": [],
   "source": [
    "Saalis = pd.read_table('Saalista.txt', sep = ',', encoding = 'iso-8859-1' )\n",
    "Ansa = pd.read_table('Ansoja.txt', sep = ',', encoding = 'iso-8859-1')"
   ]
  },
  {
   "cell_type": "code",
   "execution_count": 18,
   "metadata": {},
   "outputs": [
    {
     "name": "stdout",
     "output_type": "stream",
     "text": [
      "Päivän löytö on: \n",
      "\n",
      "Pieni seinäpeili, 100 hopeaa kehyksineen.\n",
      "\n",
      " Jota vaikeuttaa ikävästi:\n",
      "\n",
      "Yllätystauteja: kamoissa on mukana isorokon kaltaisen vakavan taudin aiheuttajat.\n"
     ]
    }
   ],
   "source": [
    "arpa = rnd.randint(6)\n",
    "\n",
    "print('Päivän löytö on: \\n\\n' + rnd.choice(Saalis.Saalis))\n",
    "\n",
    "if arpa==1:\n",
    "    luku = rnd.randint(len(Ansa))\n",
    "    print('\\n Jota vaikeuttaa ikävästi:\\n\\n' + rnd.choice(Ansa.Ansa))"
   ]
  },
  {
   "cell_type": "markdown",
   "metadata": {},
   "source": [
    "### Satunnaisia tapahtumia taustalla"
   ]
  },
  {
   "cell_type": "code",
   "execution_count": 20,
   "metadata": {},
   "outputs": [],
   "source": [
    "Tapahtuma = pd.read_table('Tapahtumia.txt', sep = ',', encoding = 'iso-8859-1')\n",
    "Faktiot = pd.read_table('Faktiot.txt', sep = ',', encoding = 'iso-8859-1')"
   ]
  },
  {
   "cell_type": "code",
   "execution_count": 35,
   "metadata": {},
   "outputs": [
    {
     "name": "stdout",
     "output_type": "stream",
     "text": [
      "Viikon tapahtuma on: \n",
      "\n",
      "Yliopisto suitsii sotakonetta synkillä esoteerisilla keinoilla.\n",
      "Asiaan ovat sotkeutuneet: Mutanttiveljeskunta.\n",
      "Asiaan ovat sotkeutuneet: Kuvanveistäjät, Illuminati.\n",
      "Asiaan ovat sotkeutuneet: Mutanttiveljeskunta.\n",
      "\n",
      "\n",
      "Viikon tapahtuma on: \n",
      "\n",
      "Memeettinen kannibalismiaalti osuu faktion joukkoihin.\n",
      "Asiaan ovat sotkeutuneet: Van Dörrenin kauppasuku.\n",
      "\n",
      "\n",
      "Viikon tapahtuma on: \n",
      "\n",
      "Acererak aktivoituu.\n",
      "Asiaan ovat sotkeutuneet: Kaarti: antikumoukselliset.\n",
      "Asiaan ovat sotkeutuneet: Baronetti Herschel, selkäänpuukottaja.\n",
      "\n",
      "\n"
     ]
    }
   ],
   "source": [
    "arpa = 1 + rnd.randint(3)\n",
    "\n",
    "\n",
    "for i in range(arpa):\n",
    "    print('Viikon tapahtuma on: \\n\\n' + rnd.choice(Tapahtuma.Tapahtuma))\n",
    "    arpa2 = 1 + rnd.randint(3)\n",
    "    for i in range(arpa2):\n",
    "        print('Asiaan ovat sotkeutuneet: ' + rnd.choice(Faktiot.Faktio))\n",
    "    print('\\n')\n",
    "\n"
   ]
  }
 ],
 "metadata": {
  "kernelspec": {
   "display_name": "Python 3",
   "language": "python",
   "name": "python3"
  },
  "language_info": {
   "codemirror_mode": {
    "name": "ipython",
    "version": 3
   },
   "file_extension": ".py",
   "mimetype": "text/x-python",
   "name": "python",
   "nbconvert_exporter": "python",
   "pygments_lexer": "ipython3",
   "version": "3.6.5"
  }
 },
 "nbformat": 4,
 "nbformat_minor": 2
}
